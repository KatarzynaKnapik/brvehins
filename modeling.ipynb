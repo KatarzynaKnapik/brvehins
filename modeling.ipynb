{
 "cells": [
  {
   "cell_type": "code",
   "execution_count": 9,
   "metadata": {},
   "outputs": [],
   "source": [
    "import pandas as pd\n",
    "import numpy as np\n",
    "import matplotlib.pyplot as plt\n",
    "import seaborn as sns\n",
    "from pathlib import Path"
   ]
  },
  {
   "cell_type": "code",
   "execution_count": 3,
   "metadata": {},
   "outputs": [
    {
     "name": "stdout",
     "output_type": "stream",
     "text": [
      "Checking whether there is an H2O instance running at http://localhost:54321..... not found.\n",
      "Attempting to start a local H2O server...\n",
      "; OpenJDK 64-Bit Server VM Zulu23.32+11-CA (build 23.0.2+7, mixed mode, sharing)\n",
      "  Starting server from C:\\Users\\s-A117-17\\.conda\\envs\\brvehins_h2o_polars_env\\Lib\\site-packages\\h2o\\backend\\bin\\h2o.jar\n",
      "  Ice root: C:\\Users\\S-A117~1\\AppData\\Local\\Temp\\tmp5a7e9ox3\n",
      "  JVM stdout: C:\\Users\\S-A117~1\\AppData\\Local\\Temp\\tmp5a7e9ox3\\h2o_s_A117_17_started_from_python.out\n",
      "  JVM stderr: C:\\Users\\S-A117~1\\AppData\\Local\\Temp\\tmp5a7e9ox3\\h2o_s_A117_17_started_from_python.err\n",
      "  Server is running at http://127.0.0.1:54321\n",
      "Connecting to H2O server at http://127.0.0.1:54321 ... successful.\n",
      "Warning: Your H2O cluster version is (4 months and 21 days) old.  There may be a newer version available.\n",
      "Please download and install the latest version from: https://h2o-release.s3.amazonaws.com/h2o/latest_stable.html\n"
     ]
    },
    {
     "data": {
      "text/html": [
       "\n",
       "<style>\n",
       "\n",
       "#h2o-table-1.h2o-container {\n",
       "  overflow-x: auto;\n",
       "}\n",
       "#h2o-table-1 .h2o-table {\n",
       "  /* width: 100%; */\n",
       "  margin-top: 1em;\n",
       "  margin-bottom: 1em;\n",
       "}\n",
       "#h2o-table-1 .h2o-table caption {\n",
       "  white-space: nowrap;\n",
       "  caption-side: top;\n",
       "  text-align: left;\n",
       "  /* margin-left: 1em; */\n",
       "  margin: 0;\n",
       "  font-size: larger;\n",
       "}\n",
       "#h2o-table-1 .h2o-table thead {\n",
       "  white-space: nowrap; \n",
       "  position: sticky;\n",
       "  top: 0;\n",
       "  box-shadow: 0 -1px inset;\n",
       "}\n",
       "#h2o-table-1 .h2o-table tbody {\n",
       "  overflow: auto;\n",
       "}\n",
       "#h2o-table-1 .h2o-table th,\n",
       "#h2o-table-1 .h2o-table td {\n",
       "  text-align: right;\n",
       "  /* border: 1px solid; */\n",
       "}\n",
       "#h2o-table-1 .h2o-table tr:nth-child(even) {\n",
       "  /* background: #F5F5F5 */\n",
       "}\n",
       "\n",
       "</style>      \n",
       "<div id=\"h2o-table-1\" class=\"h2o-container\">\n",
       "  <table class=\"h2o-table\">\n",
       "    <caption></caption>\n",
       "    <thead></thead>\n",
       "    <tbody><tr><td>H2O_cluster_uptime:</td>\n",
       "<td>10 secs</td></tr>\n",
       "<tr><td>H2O_cluster_timezone:</td>\n",
       "<td>Europe/Warsaw</td></tr>\n",
       "<tr><td>H2O_data_parsing_timezone:</td>\n",
       "<td>UTC</td></tr>\n",
       "<tr><td>H2O_cluster_version:</td>\n",
       "<td>3.46.0.6</td></tr>\n",
       "<tr><td>H2O_cluster_version_age:</td>\n",
       "<td>4 months and 21 days</td></tr>\n",
       "<tr><td>H2O_cluster_name:</td>\n",
       "<td>H2O_from_python_s_A117_17_ab7qx5</td></tr>\n",
       "<tr><td>H2O_cluster_total_nodes:</td>\n",
       "<td>1</td></tr>\n",
       "<tr><td>H2O_cluster_free_memory:</td>\n",
       "<td>15.98 Gb</td></tr>\n",
       "<tr><td>H2O_cluster_total_cores:</td>\n",
       "<td>4</td></tr>\n",
       "<tr><td>H2O_cluster_allowed_cores:</td>\n",
       "<td>4</td></tr>\n",
       "<tr><td>H2O_cluster_status:</td>\n",
       "<td>locked, healthy</td></tr>\n",
       "<tr><td>H2O_connection_url:</td>\n",
       "<td>http://127.0.0.1:54321</td></tr>\n",
       "<tr><td>H2O_connection_proxy:</td>\n",
       "<td>{\"http\": null, \"https\": null}</td></tr>\n",
       "<tr><td>H2O_internal_security:</td>\n",
       "<td>False</td></tr>\n",
       "<tr><td>Python_version:</td>\n",
       "<td>3.13.1 final</td></tr></tbody>\n",
       "  </table>\n",
       "</div>\n"
      ],
      "text/plain": [
       "--------------------------  --------------------------------\n",
       "H2O_cluster_uptime:         10 secs\n",
       "H2O_cluster_timezone:       Europe/Warsaw\n",
       "H2O_data_parsing_timezone:  UTC\n",
       "H2O_cluster_version:        3.46.0.6\n",
       "H2O_cluster_version_age:    4 months and 21 days\n",
       "H2O_cluster_name:           H2O_from_python_s_A117_17_ab7qx5\n",
       "H2O_cluster_total_nodes:    1\n",
       "H2O_cluster_free_memory:    15.98 Gb\n",
       "H2O_cluster_total_cores:    4\n",
       "H2O_cluster_allowed_cores:  4\n",
       "H2O_cluster_status:         locked, healthy\n",
       "H2O_connection_url:         http://127.0.0.1:54321\n",
       "H2O_connection_proxy:       {\"http\": null, \"https\": null}\n",
       "H2O_internal_security:      False\n",
       "Python_version:             3.13.1 final\n",
       "--------------------------  --------------------------------"
      ]
     },
     "metadata": {},
     "output_type": "display_data"
    }
   ],
   "source": [
    "import h2o \n",
    "h2o.init(max_mem_size=\"16G\")\n",
    "from h2o.estimators.glm import H2OGeneralizedLinearEstimator"
   ]
  },
  {
   "cell_type": "code",
   "execution_count": null,
   "metadata": {},
   "outputs": [],
   "source": [
    "### Sprawdz h2o dokumentacje - jest spoko\n",
    "# GLMBooklset.pdf"
   ]
  },
  {
   "cell_type": "code",
   "execution_count": 12,
   "metadata": {},
   "outputs": [
    {
     "data": {
      "text/plain": [
       "WindowsPath('d:/kasia/brvehins')"
      ]
     },
     "execution_count": 12,
     "metadata": {},
     "output_type": "execute_result"
    }
   ],
   "source": [
    "project_root = Path.cwd()\n",
    "project_root"
   ]
  },
  {
   "cell_type": "code",
   "execution_count": 13,
   "metadata": {},
   "outputs": [
    {
     "data": {
      "text/plain": [
       "WindowsPath('d:/kasia/brvehins/dane/brvehins1.parquet')"
      ]
     },
     "execution_count": 13,
     "metadata": {},
     "output_type": "execute_result"
    }
   ],
   "source": [
    "data_processed_dir = project_root / \"dane\"\n",
    "processed_file_name = data_processed_dir / \"brvehins1.parquet\"\n",
    "processed_file_name"
   ]
  },
  {
   "cell_type": "markdown",
   "metadata": {},
   "source": [
    "## Read data"
   ]
  },
  {
   "cell_type": "code",
   "execution_count": 14,
   "metadata": {},
   "outputs": [
    {
     "name": "stdout",
     "output_type": "stream",
     "text": [
      "Parse progress: |████████████████████████████████████████████████████████████████| (done) 100%\n"
     ]
    },
    {
     "data": {
      "text/html": [
       "<table class='dataframe'>\n",
       "<thead>\n",
       "<tr><th>Gender   </th><th>DrivAge  </th><th style=\"text-align: right;\">  VehYear</th><th>VehModel                                                  </th><th>VehGroup                      </th><th>Area                                    </th><th>State             </th><th>StateAb  </th><th style=\"text-align: right;\">  ExposTotal</th><th style=\"text-align: right;\">  ExposFireRob</th><th style=\"text-align: right;\">  PremTotal</th><th style=\"text-align: right;\">  PremFireRob</th><th style=\"text-align: right;\">  SumInsAvg</th><th style=\"text-align: right;\">  ClaimNbRob</th><th style=\"text-align: right;\">  ClaimNbPartColl</th><th style=\"text-align: right;\">  ClaimNbTotColl</th><th style=\"text-align: right;\">  ClaimNbFire</th><th style=\"text-align: right;\">  ClaimNbOther</th><th style=\"text-align: right;\">  ClaimAmountRob</th><th style=\"text-align: right;\">  ClaimAmountPartColl</th><th style=\"text-align: right;\">  ClaimAmountTotColl</th><th style=\"text-align: right;\">  ClaimAmountFire</th><th style=\"text-align: right;\">  ClaimAmountOther</th></tr>\n",
       "</thead>\n",
       "<tbody>\n",
       "<tr><td>Female   </td><td>&gt;55      </td><td style=\"text-align: right;\">     1997</td><td>Gm - Chevrolet - Kadett Gl 2.0 Mpfi / Efi                 </td><td>Gm Chevrolet Kadett           </td><td>Interior                                </td><td>Rio de Janeiro    </td><td>RJ       </td><td style=\"text-align: right;\">        1.01</td><td style=\"text-align: right;\">             0</td><td style=\"text-align: right;\">     742.75</td><td style=\"text-align: right;\">            0</td><td style=\"text-align: right;\">   10853   </td><td style=\"text-align: right;\">           0</td><td style=\"text-align: right;\">                0</td><td style=\"text-align: right;\">               0</td><td style=\"text-align: right;\">            0</td><td style=\"text-align: right;\">             0</td><td style=\"text-align: right;\">               0</td><td style=\"text-align: right;\">                    0</td><td style=\"text-align: right;\">                   0</td><td style=\"text-align: right;\">                0</td><td style=\"text-align: right;\">                 0</td></tr>\n",
       "<tr><td>Female   </td><td>36-45    </td><td style=\"text-align: right;\">     2010</td><td>Gm - Chevrolet - Montana 1.4 8v Conquest Econoflex  2p    </td><td>Gm Chevrolet Montana          </td><td>Maranhao                                </td><td>Maranhao          </td><td>MA       </td><td style=\"text-align: right;\">        3   </td><td style=\"text-align: right;\">             0</td><td style=\"text-align: right;\">    5025.68</td><td style=\"text-align: right;\">            0</td><td style=\"text-align: right;\">   31009.7 </td><td style=\"text-align: right;\">           0</td><td style=\"text-align: right;\">                0</td><td style=\"text-align: right;\">               0</td><td style=\"text-align: right;\">            0</td><td style=\"text-align: right;\">             0</td><td style=\"text-align: right;\">               0</td><td style=\"text-align: right;\">                    0</td><td style=\"text-align: right;\">                   0</td><td style=\"text-align: right;\">                0</td><td style=\"text-align: right;\">                 0</td></tr>\n",
       "<tr><td>Female   </td><td>18-25    </td><td style=\"text-align: right;\">     2008</td><td>Vw - Volkswagen - Fox City 1.0mi/ 1.0mi Total Flex 8v 3p  </td><td>Vw Volkswagen Fox 1.0         </td><td>Mato Grosso do Sul                      </td><td>Mato Grosso do Sul</td><td>MS       </td><td style=\"text-align: right;\">        1.01</td><td style=\"text-align: right;\">             0</td><td style=\"text-align: right;\">     916.26</td><td style=\"text-align: right;\">            0</td><td style=\"text-align: right;\">   24977.2 </td><td style=\"text-align: right;\">           0</td><td style=\"text-align: right;\">                0</td><td style=\"text-align: right;\">               0</td><td style=\"text-align: right;\">            0</td><td style=\"text-align: right;\">             0</td><td style=\"text-align: right;\">               0</td><td style=\"text-align: right;\">                    0</td><td style=\"text-align: right;\">                   0</td><td style=\"text-align: right;\">                0</td><td style=\"text-align: right;\">                 0</td></tr>\n",
       "<tr><td>Male     </td><td>&gt;55      </td><td style=\"text-align: right;\">     2004</td><td>Harley-davidson - Fat Boy                                 </td><td>Harley-davidson Motos - Todas </td><td>Met. Porto Alegre e Caxias do Sul       </td><td>Rio Grande do Sul </td><td>RS       </td><td style=\"text-align: right;\">        1.45</td><td style=\"text-align: right;\">             0</td><td style=\"text-align: right;\">    1601.68</td><td style=\"text-align: right;\">            0</td><td style=\"text-align: right;\">   35932.7 </td><td style=\"text-align: right;\">           0</td><td style=\"text-align: right;\">                0</td><td style=\"text-align: right;\">               0</td><td style=\"text-align: right;\">            0</td><td style=\"text-align: right;\">             0</td><td style=\"text-align: right;\">               0</td><td style=\"text-align: right;\">                    0</td><td style=\"text-align: right;\">                   0</td><td style=\"text-align: right;\">                0</td><td style=\"text-align: right;\">                 0</td></tr>\n",
       "<tr><td>Male     </td><td>36-45    </td><td style=\"text-align: right;\">     2009</td><td>Volvo - Fh 440 6x2 2p (diesel)                            </td><td>Volvo Caminhoes - Todos       </td><td>Ribeirao Preto e Demais Mun. de Campinas</td><td>Sao Paulo         </td><td>SP       </td><td style=\"text-align: right;\">        4.55</td><td style=\"text-align: right;\">             0</td><td style=\"text-align: right;\">   53031.3 </td><td style=\"text-align: right;\">            0</td><td style=\"text-align: right;\">  301890   </td><td style=\"text-align: right;\">           0</td><td style=\"text-align: right;\">                1</td><td style=\"text-align: right;\">               0</td><td style=\"text-align: right;\">            0</td><td style=\"text-align: right;\">             0</td><td style=\"text-align: right;\">               0</td><td style=\"text-align: right;\">                  648</td><td style=\"text-align: right;\">                   0</td><td style=\"text-align: right;\">                0</td><td style=\"text-align: right;\">                 0</td></tr>\n",
       "<tr><td>Male     </td><td>26-35    </td><td style=\"text-align: right;\">     1998</td><td>Vw - Volkswagen - Gol Gl 1.6 Mi/star 1.6 E 1.8/atlanta 1.6</td><td>Vw Volkswagen Gol Acima De 1.0</td><td>Met. Porto Alegre e Caxias do Sul       </td><td>Rio Grande do Sul </td><td>RS       </td><td style=\"text-align: right;\">        1   </td><td style=\"text-align: right;\">             0</td><td style=\"text-align: right;\">     660.59</td><td style=\"text-align: right;\">            0</td><td style=\"text-align: right;\">   13574   </td><td style=\"text-align: right;\">           0</td><td style=\"text-align: right;\">                1</td><td style=\"text-align: right;\">               0</td><td style=\"text-align: right;\">            0</td><td style=\"text-align: right;\">             2</td><td style=\"text-align: right;\">               0</td><td style=\"text-align: right;\">                 2773</td><td style=\"text-align: right;\">                   0</td><td style=\"text-align: right;\">                0</td><td style=\"text-align: right;\">               120</td></tr>\n",
       "<tr><td>Male     </td><td>18-25    </td><td style=\"text-align: right;\">     1999</td><td>Gm - Chevrolet - Corsa Sedan Super 1.0 Mpfi 4p            </td><td>Gm Chevrolet Corsa 1.0        </td><td>Grande Campinas                         </td><td>Sao Paulo         </td><td>SP       </td><td style=\"text-align: right;\">        1.01</td><td style=\"text-align: right;\">             0</td><td style=\"text-align: right;\">     959.55</td><td style=\"text-align: right;\">            0</td><td style=\"text-align: right;\">   14043.6 </td><td style=\"text-align: right;\">           0</td><td style=\"text-align: right;\">                0</td><td style=\"text-align: right;\">               0</td><td style=\"text-align: right;\">            0</td><td style=\"text-align: right;\">             0</td><td style=\"text-align: right;\">               0</td><td style=\"text-align: right;\">                    0</td><td style=\"text-align: right;\">                   0</td><td style=\"text-align: right;\">                0</td><td style=\"text-align: right;\">                 0</td></tr>\n",
       "<tr><td>Corporate</td><td>nan      </td><td style=\"text-align: right;\">     2006</td><td>Honda - Cg 150 Titan-esd/ Titan Special Edition           </td><td>Honda Motos Ate 450cc         </td><td>Vale do Paraiba e Ribeira               </td><td>Sao Paulo         </td><td>SP       </td><td style=\"text-align: right;\">        1.51</td><td style=\"text-align: right;\">             0</td><td style=\"text-align: right;\">     981.83</td><td style=\"text-align: right;\">            0</td><td style=\"text-align: right;\">    4929.81</td><td style=\"text-align: right;\">           0</td><td style=\"text-align: right;\">                0</td><td style=\"text-align: right;\">               0</td><td style=\"text-align: right;\">            0</td><td style=\"text-align: right;\">             0</td><td style=\"text-align: right;\">               0</td><td style=\"text-align: right;\">                    0</td><td style=\"text-align: right;\">                   0</td><td style=\"text-align: right;\">                0</td><td style=\"text-align: right;\">                 0</td></tr>\n",
       "<tr><td>Male     </td><td>36-45    </td><td style=\"text-align: right;\">     2010</td><td>Volvo - C30 2.0 145cv                                     </td><td>Volvo - Outros                </td><td>Triangulo mineiro                       </td><td>Minas Gerais      </td><td>MG       </td><td style=\"text-align: right;\">        0.25</td><td style=\"text-align: right;\">             0</td><td style=\"text-align: right;\">     822.1 </td><td style=\"text-align: right;\">            0</td><td style=\"text-align: right;\">       0   </td><td style=\"text-align: right;\">           0</td><td style=\"text-align: right;\">                0</td><td style=\"text-align: right;\">               0</td><td style=\"text-align: right;\">            0</td><td style=\"text-align: right;\">             0</td><td style=\"text-align: right;\">               0</td><td style=\"text-align: right;\">                    0</td><td style=\"text-align: right;\">                   0</td><td style=\"text-align: right;\">                0</td><td style=\"text-align: right;\">                 0</td></tr>\n",
       "<tr><td>Female   </td><td>26-35    </td><td style=\"text-align: right;\">     2002</td><td>Fiat - Uno Mille 1.0 Fire/ F.flex/ Economy 4p             </td><td>Fiat Uno 1.0                  </td><td>Demais regioes                          </td><td>Rio Grande do Sul </td><td>RS       </td><td style=\"text-align: right;\">        0.93</td><td style=\"text-align: right;\">             0</td><td style=\"text-align: right;\">     589.07</td><td style=\"text-align: right;\">            0</td><td style=\"text-align: right;\">   13976.5 </td><td style=\"text-align: right;\">           0</td><td style=\"text-align: right;\">                0</td><td style=\"text-align: right;\">               0</td><td style=\"text-align: right;\">            0</td><td style=\"text-align: right;\">             0</td><td style=\"text-align: right;\">               0</td><td style=\"text-align: right;\">                    0</td><td style=\"text-align: right;\">                   0</td><td style=\"text-align: right;\">                0</td><td style=\"text-align: right;\">                 0</td></tr>\n",
       "</tbody>\n",
       "</table><pre style='font-size: smaller; margin-bottom: 1em;'>[1965355 rows x 23 columns]</pre>"
      ],
      "text/plain": [
       "Gender     DrivAge      VehYear  VehModel                                                    VehGroup                        Area                                      State               StateAb      ExposTotal    ExposFireRob    PremTotal    PremFireRob    SumInsAvg    ClaimNbRob    ClaimNbPartColl    ClaimNbTotColl    ClaimNbFire    ClaimNbOther    ClaimAmountRob    ClaimAmountPartColl    ClaimAmountTotColl    ClaimAmountFire    ClaimAmountOther\n",
       "---------  ---------  ---------  ----------------------------------------------------------  ------------------------------  ----------------------------------------  ------------------  ---------  ------------  --------------  -----------  -------------  -----------  ------------  -----------------  ----------------  -------------  --------------  ----------------  ---------------------  --------------------  -----------------  ------------------\n",
       "Female     >55             1997  Gm - Chevrolet - Kadett Gl 2.0 Mpfi / Efi                   Gm Chevrolet Kadett             Interior                                  Rio de Janeiro      RJ                 1.01               0       742.75              0     10853                0                  0                 0              0               0                 0                      0                     0                  0                   0\n",
       "Female     36-45           2010  Gm - Chevrolet - Montana 1.4 8v Conquest Econoflex  2p      Gm Chevrolet Montana            Maranhao                                  Maranhao            MA                 3                  0      5025.68              0     31009.7              0                  0                 0              0               0                 0                      0                     0                  0                   0\n",
       "Female     18-25           2008  Vw - Volkswagen - Fox City 1.0mi/ 1.0mi Total Flex 8v 3p    Vw Volkswagen Fox 1.0           Mato Grosso do Sul                        Mato Grosso do Sul  MS                 1.01               0       916.26              0     24977.2              0                  0                 0              0               0                 0                      0                     0                  0                   0\n",
       "Male       >55             2004  Harley-davidson - Fat Boy                                   Harley-davidson Motos - Todas   Met. Porto Alegre e Caxias do Sul         Rio Grande do Sul   RS                 1.45               0      1601.68              0     35932.7              0                  0                 0              0               0                 0                      0                     0                  0                   0\n",
       "Male       36-45           2009  Volvo - Fh 440 6x2 2p (diesel)                              Volvo Caminhoes - Todos         Ribeirao Preto e Demais Mun. de Campinas  Sao Paulo           SP                 4.55               0     53031.3               0    301890                0                  1                 0              0               0                 0                    648                     0                  0                   0\n",
       "Male       26-35           1998  Vw - Volkswagen - Gol Gl 1.6 Mi/star 1.6 E 1.8/atlanta 1.6  Vw Volkswagen Gol Acima De 1.0  Met. Porto Alegre e Caxias do Sul         Rio Grande do Sul   RS                 1                  0       660.59              0     13574                0                  1                 0              0               2                 0                   2773                     0                  0                 120\n",
       "Male       18-25           1999  Gm - Chevrolet - Corsa Sedan Super 1.0 Mpfi 4p              Gm Chevrolet Corsa 1.0          Grande Campinas                           Sao Paulo           SP                 1.01               0       959.55              0     14043.6              0                  0                 0              0               0                 0                      0                     0                  0                   0\n",
       "Corporate  nan             2006  Honda - Cg 150 Titan-esd/ Titan Special Edition             Honda Motos Ate 450cc           Vale do Paraiba e Ribeira                 Sao Paulo           SP                 1.51               0       981.83              0      4929.81             0                  0                 0              0               0                 0                      0                     0                  0                   0\n",
       "Male       36-45           2010  Volvo - C30 2.0 145cv                                       Volvo - Outros                  Triangulo mineiro                         Minas Gerais        MG                 0.25               0       822.1               0         0                0                  0                 0              0               0                 0                      0                     0                  0                   0\n",
       "Female     26-35           2002  Fiat - Uno Mille 1.0 Fire/ F.flex/ Economy 4p               Fiat Uno 1.0                    Demais regioes                            Rio Grande do Sul   RS                 0.93               0       589.07              0     13976.5              0                  0                 0              0               0                 0                      0                     0                  0                   0\n",
       "[1965355 rows x 23 columns]\n"
      ]
     },
     "execution_count": 14,
     "metadata": {},
     "output_type": "execute_result"
    }
   ],
   "source": [
    "input_df = h2o.import_file(str(processed_file_name))\n",
    "input_df"
   ]
  },
  {
   "cell_type": "code",
   "execution_count": 15,
   "metadata": {},
   "outputs": [
    {
     "data": {
      "text/html": [
       "<pre style='margin: 1em 0 1em 0;'>Rows:1965355\n",
       "Cols:23\n",
       "</pre>"
      ],
      "text/plain": [
       "Rows:1965355\n",
       "Cols:23\n"
      ]
     },
     "metadata": {},
     "output_type": "display_data"
    },
    {
     "data": {
      "text/html": [
       "<table class='dataframe'>\n",
       "<thead>\n",
       "<tr><th>       </th><th>Gender   </th><th>DrivAge  </th><th>VehYear          </th><th>VehModel                                                  </th><th>VehGroup                      </th><th>Area                                    </th><th>State             </th><th>StateAb  </th><th>ExposTotal        </th><th>ExposFireRob  </th><th>PremTotal         </th><th>PremFireRob  </th><th>SumInsAvg         </th><th>ClaimNbRob          </th><th>ClaimNbPartColl    </th><th>ClaimNbTotColl      </th><th>ClaimNbFire          </th><th>ClaimNbOther      </th><th>ClaimAmountRob   </th><th>ClaimAmountPartColl  </th><th>ClaimAmountTotColl  </th><th>ClaimAmountFire   </th><th>ClaimAmountOther  </th></tr>\n",
       "</thead>\n",
       "<tbody>\n",
       "<tr><td>type   </td><td>enum     </td><td>enum     </td><td>int              </td><td>enum                                                      </td><td>enum                          </td><td>enum                                    </td><td>enum              </td><td>enum     </td><td>real              </td><td>int           </td><td>real              </td><td>int          </td><td>real              </td><td>int                 </td><td>int                </td><td>int                 </td><td>int                  </td><td>int               </td><td>int              </td><td>int                  </td><td>int                 </td><td>int               </td><td>int               </td></tr>\n",
       "<tr><td>mins   </td><td>         </td><td>         </td><td>0.0              </td><td>                                                          </td><td>                              </td><td>                                        </td><td>                  </td><td>         </td><td>0.0               </td><td>0.0           </td><td>0.0               </td><td>0.0          </td><td>0.0               </td><td>0.0                 </td><td>0.0                </td><td>0.0                 </td><td>0.0                  </td><td>0.0               </td><td>0.0              </td><td>0.0                  </td><td>0.0                 </td><td>0.0               </td><td>0.0               </td></tr>\n",
       "<tr><td>mean   </td><td>         </td><td>         </td><td>2005.178526889172</td><td>                                                          </td><td>                              </td><td>                                        </td><td>                  </td><td>         </td><td>3.1853612116435848</td><td>0.0           </td><td>3730.594227093668 </td><td>0.0          </td><td>39413.438327436306</td><td>0.030163507356177465</td><td>0.22397073302278656</td><td>0.018497930399342475</td><td>0.0008191904261571082</td><td>0.4820665986551949</td><td>745.7559367137178</td><td>837.1295374118108    </td><td>615.1462611080459   </td><td>19.156278636683954</td><td>146.70082504178905</td></tr>\n",
       "<tr><td>maxs   </td><td>         </td><td>         </td><td>2012.0           </td><td>                                                          </td><td>                              </td><td>                                        </td><td>                  </td><td>         </td><td>8078.440000000001 </td><td>0.0           </td><td>6478755.129999999 </td><td>0.0          </td><td>1307269.9399999997</td><td>164.0               </td><td>1617.0             </td><td>66.0                </td><td>6.0                  </td><td>1278.0            </td><td>4421765.0        </td><td>2289213.0            </td><td>2201873.0           </td><td>581152.0          </td><td>967914.0          </td></tr>\n",
       "<tr><td>sigma  </td><td>         </td><td>         </td><td>6.739706668716953</td><td>                                                          </td><td>                              </td><td>                                        </td><td>                  </td><td>         </td><td>15.938836310979733</td><td>0.0           </td><td>18199.844410480942</td><td>0.0          </td><td>38696.99414377571 </td><td>0.31646616946795403 </td><td>2.6883007081727643 </td><td>0.16469712419304788 </td><td>0.03013421754081351  </td><td>5.017402740690113 </td><td>9259.614074578063</td><td>6460.140773757705    </td><td>6753.409133581282   </td><td>1262.4719282645876</td><td>2626.0285297161436</td></tr>\n",
       "<tr><td>zeros  </td><td>         </td><td>         </td><td>8                </td><td>                                                          </td><td>                              </td><td>                                        </td><td>                  </td><td>         </td><td>51762             </td><td>1965355       </td><td>51762             </td><td>1965355      </td><td>140667            </td><td>1923094             </td><td>1749216            </td><td>1932654             </td><td>1963815              </td><td>1775601           </td><td>1923094          </td><td>1749216              </td><td>1932654             </td><td>1963815           </td><td>1775601           </td></tr>\n",
       "<tr><td>missing</td><td>0        </td><td>0        </td><td>4                </td><td>120515                                                    </td><td>120515                        </td><td>0                                       </td><td>0                 </td><td>0        </td><td>0                 </td><td>0             </td><td>0                 </td><td>0            </td><td>0                 </td><td>0                   </td><td>0                  </td><td>0                   </td><td>0                    </td><td>0                 </td><td>0                </td><td>0                    </td><td>0                   </td><td>0                 </td><td>0                 </td></tr>\n",
       "<tr><td>0      </td><td>Female   </td><td>&gt;55      </td><td>1997.0           </td><td>Gm - Chevrolet - Kadett Gl 2.0 Mpfi / Efi                 </td><td>Gm Chevrolet Kadett           </td><td>Interior                                </td><td>Rio de Janeiro    </td><td>RJ       </td><td>1.01              </td><td>0.0           </td><td>742.75            </td><td>0.0          </td><td>10852.99          </td><td>0.0                 </td><td>0.0                </td><td>0.0                 </td><td>0.0                  </td><td>0.0               </td><td>0.0              </td><td>0.0                  </td><td>0.0                 </td><td>0.0               </td><td>0.0               </td></tr>\n",
       "<tr><td>1      </td><td>Female   </td><td>36-45    </td><td>2010.0           </td><td>Gm - Chevrolet - Montana 1.4 8v Conquest Econoflex  2p    </td><td>Gm Chevrolet Montana          </td><td>Maranhao                                </td><td>Maranhao          </td><td>MA       </td><td>3.0               </td><td>0.0           </td><td>5025.68           </td><td>0.0          </td><td>31009.73          </td><td>0.0                 </td><td>0.0                </td><td>0.0                 </td><td>0.0                  </td><td>0.0               </td><td>0.0              </td><td>0.0                  </td><td>0.0                 </td><td>0.0               </td><td>0.0               </td></tr>\n",
       "<tr><td>2      </td><td>Female   </td><td>18-25    </td><td>2008.0           </td><td>Vw - Volkswagen - Fox City 1.0mi/ 1.0mi Total Flex 8v 3p  </td><td>Vw Volkswagen Fox 1.0         </td><td>Mato Grosso do Sul                      </td><td>Mato Grosso do Sul</td><td>MS       </td><td>1.01              </td><td>0.0           </td><td>916.2599999999998 </td><td>0.0          </td><td>24977.180000000004</td><td>0.0                 </td><td>0.0                </td><td>0.0                 </td><td>0.0                  </td><td>0.0               </td><td>0.0              </td><td>0.0                  </td><td>0.0                 </td><td>0.0               </td><td>0.0               </td></tr>\n",
       "<tr><td>3      </td><td>Male     </td><td>&gt;55      </td><td>2004.0           </td><td>Harley-davidson - Fat Boy                                 </td><td>Harley-davidson Motos - Todas </td><td>Met. Porto Alegre e Caxias do Sul       </td><td>Rio Grande do Sul </td><td>RS       </td><td>1.45              </td><td>0.0           </td><td>1601.68           </td><td>0.0          </td><td>35932.66          </td><td>0.0                 </td><td>0.0                </td><td>0.0                 </td><td>0.0                  </td><td>0.0               </td><td>0.0              </td><td>0.0                  </td><td>0.0                 </td><td>0.0               </td><td>0.0               </td></tr>\n",
       "<tr><td>4      </td><td>Male     </td><td>36-45    </td><td>2009.0           </td><td>Volvo - Fh 440 6x2 2p (diesel)                            </td><td>Volvo Caminhoes - Todos       </td><td>Ribeirao Preto e Demais Mun. de Campinas</td><td>Sao Paulo         </td><td>SP       </td><td>4.55              </td><td>0.0           </td><td>53031.35          </td><td>0.0          </td><td>301889.74         </td><td>0.0                 </td><td>1.0                </td><td>0.0                 </td><td>0.0                  </td><td>0.0               </td><td>0.0              </td><td>648.0                </td><td>0.0                 </td><td>0.0               </td><td>0.0               </td></tr>\n",
       "<tr><td>5      </td><td>Male     </td><td>26-35    </td><td>1998.0           </td><td>Vw - Volkswagen - Gol Gl 1.6 Mi/star 1.6 E 1.8/atlanta 1.6</td><td>Vw Volkswagen Gol Acima De 1.0</td><td>Met. Porto Alegre e Caxias do Sul       </td><td>Rio Grande do Sul </td><td>RS       </td><td>1.0               </td><td>0.0           </td><td>660.59            </td><td>0.0          </td><td>13574.0           </td><td>0.0                 </td><td>1.0                </td><td>0.0                 </td><td>0.0                  </td><td>2.0               </td><td>0.0              </td><td>2773.0               </td><td>0.0                 </td><td>0.0               </td><td>120.0             </td></tr>\n",
       "<tr><td>6      </td><td>Male     </td><td>18-25    </td><td>1999.0           </td><td>Gm - Chevrolet - Corsa Sedan Super 1.0 Mpfi 4p            </td><td>Gm Chevrolet Corsa 1.0        </td><td>Grande Campinas                         </td><td>Sao Paulo         </td><td>SP       </td><td>1.01              </td><td>0.0           </td><td>959.55            </td><td>0.0          </td><td>14043.630000000003</td><td>0.0                 </td><td>0.0                </td><td>0.0                 </td><td>0.0                  </td><td>0.0               </td><td>0.0              </td><td>0.0                  </td><td>0.0                 </td><td>0.0               </td><td>0.0               </td></tr>\n",
       "<tr><td>7      </td><td>Corporate</td><td>nan      </td><td>2006.0           </td><td>Honda - Cg 150 Titan-esd/ Titan Special Edition           </td><td>Honda Motos Ate 450cc         </td><td>Vale do Paraiba e Ribeira               </td><td>Sao Paulo         </td><td>SP       </td><td>1.51              </td><td>0.0           </td><td>981.8300000000002 </td><td>0.0          </td><td>4929.810000000001 </td><td>0.0                 </td><td>0.0                </td><td>0.0                 </td><td>0.0                  </td><td>0.0               </td><td>0.0              </td><td>0.0                  </td><td>0.0                 </td><td>0.0               </td><td>0.0               </td></tr>\n",
       "<tr><td>8      </td><td>Male     </td><td>36-45    </td><td>2010.0           </td><td>Volvo - C30 2.0 145cv                                     </td><td>Volvo - Outros                </td><td>Triangulo mineiro                       </td><td>Minas Gerais      </td><td>MG       </td><td>0.25              </td><td>0.0           </td><td>822.1000000000001 </td><td>0.0          </td><td>0.0               </td><td>0.0                 </td><td>0.0                </td><td>0.0                 </td><td>0.0                  </td><td>0.0               </td><td>0.0              </td><td>0.0                  </td><td>0.0                 </td><td>0.0               </td><td>0.0               </td></tr>\n",
       "<tr><td>9      </td><td>Female   </td><td>26-35    </td><td>2002.0           </td><td>Fiat - Uno Mille 1.0 Fire/ F.flex/ Economy 4p             </td><td>Fiat Uno 1.0                  </td><td>Demais regioes                          </td><td>Rio Grande do Sul </td><td>RS       </td><td>0.93              </td><td>0.0           </td><td>589.07            </td><td>0.0          </td><td>13976.55          </td><td>0.0                 </td><td>0.0                </td><td>0.0                 </td><td>0.0                  </td><td>0.0               </td><td>0.0              </td><td>0.0                  </td><td>0.0                 </td><td>0.0               </td><td>0.0               </td></tr>\n",
       "</tbody>\n",
       "</table><pre style='font-size: smaller; margin-bottom: 1em;'>[1965355 rows x 23 columns]</pre>"
      ],
      "text/plain": [
       "         Gender     DrivAge    VehYear            VehModel                                                    VehGroup                        Area                                      State               StateAb    ExposTotal          ExposFireRob    PremTotal           PremFireRob    SumInsAvg           ClaimNbRob            ClaimNbPartColl      ClaimNbTotColl        ClaimNbFire            ClaimNbOther        ClaimAmountRob     ClaimAmountPartColl    ClaimAmountTotColl    ClaimAmountFire     ClaimAmountOther\n",
       "-------  ---------  ---------  -----------------  ----------------------------------------------------------  ------------------------------  ----------------------------------------  ------------------  ---------  ------------------  --------------  ------------------  -------------  ------------------  --------------------  -------------------  --------------------  ---------------------  ------------------  -----------------  ---------------------  --------------------  ------------------  ------------------\n",
       "type     enum       enum       int                enum                                                        enum                            enum                                      enum                enum       real                int             real                int            real                int                   int                  int                   int                    int                 int                int                    int                   int                 int\n",
       "mins                           0.0                                                                                                                                                                                     0.0                 0.0             0.0                 0.0            0.0                 0.0                   0.0                  0.0                   0.0                    0.0                 0.0                0.0                    0.0                   0.0                 0.0\n",
       "mean                           2005.178526889172                                                                                                                                                                       3.1853612116435848  0.0             3730.594227093668   0.0            39413.438327436306  0.030163507356177465  0.22397073302278656  0.018497930399342475  0.0008191904261571082  0.4820665986551949  745.7559367137178  837.1295374118108      615.1462611080459     19.156278636683954  146.70082504178905\n",
       "maxs                           2012.0                                                                                                                                                                                  8078.440000000001   0.0             6478755.129999999   0.0            1307269.9399999997  164.0                 1617.0               66.0                  6.0                    1278.0              4421765.0          2289213.0              2201873.0             581152.0            967914.0\n",
       "sigma                          6.739706668716953                                                                                                                                                                       15.938836310979733  0.0             18199.844410480942  0.0            38696.99414377571   0.31646616946795403   2.6883007081727643   0.16469712419304788   0.03013421754081351    5.017402740690113   9259.614074578063  6460.140773757705      6753.409133581282     1262.4719282645876  2626.0285297161436\n",
       "zeros                          8                                                                                                                                                                                       51762               1965355         51762               1965355        140667              1923094               1749216              1932654               1963815                1775601             1923094            1749216                1932654               1963815             1775601\n",
       "missing  0          0          4                  120515                                                      120515                          0                                         0                   0          0                   0               0                   0              0                   0                     0                    0                     0                      0                   0                  0                      0                     0                   0\n",
       "0        Female     >55        1997.0             Gm - Chevrolet - Kadett Gl 2.0 Mpfi / Efi                   Gm Chevrolet Kadett             Interior                                  Rio de Janeiro      RJ         1.01                0.0             742.75              0.0            10852.99            0.0                   0.0                  0.0                   0.0                    0.0                 0.0                0.0                    0.0                   0.0                 0.0\n",
       "1        Female     36-45      2010.0             Gm - Chevrolet - Montana 1.4 8v Conquest Econoflex  2p      Gm Chevrolet Montana            Maranhao                                  Maranhao            MA         3.0                 0.0             5025.68             0.0            31009.73            0.0                   0.0                  0.0                   0.0                    0.0                 0.0                0.0                    0.0                   0.0                 0.0\n",
       "2        Female     18-25      2008.0             Vw - Volkswagen - Fox City 1.0mi/ 1.0mi Total Flex 8v 3p    Vw Volkswagen Fox 1.0           Mato Grosso do Sul                        Mato Grosso do Sul  MS         1.01                0.0             916.2599999999998   0.0            24977.180000000004  0.0                   0.0                  0.0                   0.0                    0.0                 0.0                0.0                    0.0                   0.0                 0.0\n",
       "3        Male       >55        2004.0             Harley-davidson - Fat Boy                                   Harley-davidson Motos - Todas   Met. Porto Alegre e Caxias do Sul         Rio Grande do Sul   RS         1.45                0.0             1601.68             0.0            35932.66            0.0                   0.0                  0.0                   0.0                    0.0                 0.0                0.0                    0.0                   0.0                 0.0\n",
       "4        Male       36-45      2009.0             Volvo - Fh 440 6x2 2p (diesel)                              Volvo Caminhoes - Todos         Ribeirao Preto e Demais Mun. de Campinas  Sao Paulo           SP         4.55                0.0             53031.35            0.0            301889.74           0.0                   1.0                  0.0                   0.0                    0.0                 0.0                648.0                  0.0                   0.0                 0.0\n",
       "5        Male       26-35      1998.0             Vw - Volkswagen - Gol Gl 1.6 Mi/star 1.6 E 1.8/atlanta 1.6  Vw Volkswagen Gol Acima De 1.0  Met. Porto Alegre e Caxias do Sul         Rio Grande do Sul   RS         1.0                 0.0             660.59              0.0            13574.0             0.0                   1.0                  0.0                   0.0                    2.0                 0.0                2773.0                 0.0                   0.0                 120.0\n",
       "6        Male       18-25      1999.0             Gm - Chevrolet - Corsa Sedan Super 1.0 Mpfi 4p              Gm Chevrolet Corsa 1.0          Grande Campinas                           Sao Paulo           SP         1.01                0.0             959.55              0.0            14043.630000000003  0.0                   0.0                  0.0                   0.0                    0.0                 0.0                0.0                    0.0                   0.0                 0.0\n",
       "7        Corporate  nan        2006.0             Honda - Cg 150 Titan-esd/ Titan Special Edition             Honda Motos Ate 450cc           Vale do Paraiba e Ribeira                 Sao Paulo           SP         1.51                0.0             981.8300000000002   0.0            4929.810000000001   0.0                   0.0                  0.0                   0.0                    0.0                 0.0                0.0                    0.0                   0.0                 0.0\n",
       "8        Male       36-45      2010.0             Volvo - C30 2.0 145cv                                       Volvo - Outros                  Triangulo mineiro                         Minas Gerais        MG         0.25                0.0             822.1000000000001   0.0            0.0                 0.0                   0.0                  0.0                   0.0                    0.0                 0.0                0.0                    0.0                   0.0                 0.0\n",
       "9        Female     26-35      2002.0             Fiat - Uno Mille 1.0 Fire/ F.flex/ Economy 4p               Fiat Uno 1.0                    Demais regioes                            Rio Grande do Sul   RS         0.93                0.0             589.07              0.0            13976.55            0.0                   0.0                  0.0                   0.0                    0.0                 0.0                0.0                    0.0                   0.0                 0.0\n",
       "[1965355 rows x 23 columns]\n"
      ]
     },
     "metadata": {},
     "output_type": "display_data"
    }
   ],
   "source": [
    "input_df.describe()"
   ]
  },
  {
   "cell_type": "code",
   "execution_count": 19,
   "metadata": {},
   "outputs": [],
   "source": [
    "conditions = (\n",
    "    (input_df[\"VehYear\"] > 0)\n",
    "    & (input_df[\"ExposTotal\"] > 0)\n",
    "    & (input_df[\"PremTotal\"] > 0)\n",
    "    & (input_df[\"SumInsAvg\"] > 0)\n",
    ")"
   ]
  },
  {
   "cell_type": "code",
   "execution_count": 21,
   "metadata": {},
   "outputs": [
    {
     "data": {
      "text/plain": [
       "(1824688, 23)"
      ]
     },
     "execution_count": 21,
     "metadata": {},
     "output_type": "execute_result"
    }
   ],
   "source": [
    "df = input_df[conditions]\n",
    "df.shape"
   ]
  },
  {
   "cell_type": "code",
   "execution_count": 22,
   "metadata": {},
   "outputs": [
    {
     "data": {
      "text/plain": [
       "h2o.frame.H2OFrame"
      ]
     },
     "execution_count": 22,
     "metadata": {},
     "output_type": "execute_result"
    }
   ],
   "source": [
    "type(df)"
   ]
  },
  {
   "cell_type": "code",
   "execution_count": 25,
   "metadata": {},
   "outputs": [],
   "source": [
    "# df.describe()"
   ]
  },
  {
   "cell_type": "code",
   "execution_count": null,
   "metadata": {},
   "outputs": [],
   "source": [
    "# modele addytywne vs multiplikatywne\n",
    "\n",
    "# dla offset nie chcemy estymowac wspolczynnikow ale wiemy ze ona wplywa na modell, w ubezpieczeniach do offsetu wrzucamy log(exposure),\n",
    "# offset dodajemy tylko do modelu frequency (model czestotlowosci szkod)\n",
    "# frequency = liczba szkod / expozure"
   ]
  },
  {
   "cell_type": "code",
   "execution_count": null,
   "metadata": {},
   "outputs": [],
   "source": [
    "# https://docs.h2o.ai/h2o/latest-stable/h2o-docs/data-science/glm.html\n",
    "# https://docs.h2o.ai/h2o/latest-stable/h2o-py/docs/frame.html?highlight=log#h2o.H2OFrame.log - dokumentacja h2o"
   ]
  },
  {
   "cell_type": "markdown",
   "metadata": {},
   "source": [
    "$Frequency = \\frac{Liczba\\ szkod}{Expozure}$"
   ]
  },
  {
   "cell_type": "markdown",
   "metadata": {},
   "source": [
    "$$\\ln (Frequency)=\\beta_0+\\beta_1 X_1+\\beta_2 X_2+\\ldots+\\beta_k X_k$$\n",
    "\n",
    "$$\\ln (\\frac{Liczba\\ szkod}{Expozure})=\\beta_0+\\beta_1 X_1+\\beta_2 X_2+\\ldots+\\beta_k X_k$$\n",
    "\n",
    "$$\\ln(Liczba\\ szkod) - \\ln(Expozure)=\\beta_0+\\beta_1 X_1+\\beta_2 X_2+\\ldots+\\beta_k X_k$$\n",
    "\n",
    "$$\\ln(Expozure)=\\beta_0+\\beta_1 X_1+\\beta_2 X_2+\\ldots+\\beta_k X_k+\\ln(Expozure)$$"
   ]
  },
  {
   "cell_type": "markdown",
   "metadata": {},
   "source": [
    "## Model parameters"
   ]
  },
  {
   "cell_type": "code",
   "execution_count": 49,
   "metadata": {},
   "outputs": [
    {
     "data": {
      "text/plain": [
       "['Gender',\n",
       " 'DrivAge',\n",
       " 'VehYear',\n",
       " 'VehModel',\n",
       " 'VehGroup',\n",
       " 'Area',\n",
       " 'State',\n",
       " 'StateAb',\n",
       " 'ExposTotal',\n",
       " 'ExposFireRob',\n",
       " 'PremTotal',\n",
       " 'PremFireRob',\n",
       " 'SumInsAvg',\n",
       " 'ClaimNbRob',\n",
       " 'ClaimNbPartColl',\n",
       " 'ClaimNbTotColl',\n",
       " 'ClaimNbFire',\n",
       " 'ClaimNbOther',\n",
       " 'ClaimAmountRob',\n",
       " 'ClaimAmountPartColl',\n",
       " 'ClaimAmountTotColl',\n",
       " 'ClaimAmountFire',\n",
       " 'ClaimAmountOther',\n",
       " 'log(ExposTotal)']"
      ]
     },
     "execution_count": 49,
     "metadata": {},
     "output_type": "execute_result"
    }
   ],
   "source": [
    "df.columns"
   ]
  },
  {
   "cell_type": "code",
   "execution_count": 50,
   "metadata": {},
   "outputs": [],
   "source": [
    "COVERAGE = \"PartColl\"\n",
    "EXPOSURE = \"ExposTotal\"\n",
    "RESPONSE = f\"ClaimNb{COVERAGE}\"\n",
    "WEIGHTS = None"
   ]
  },
  {
   "cell_type": "markdown",
   "metadata": {},
   "source": [
    "## Create offset column"
   ]
  },
  {
   "cell_type": "code",
   "execution_count": 51,
   "metadata": {},
   "outputs": [
    {
     "data": {
      "text/html": [
       "<table class='dataframe'>\n",
       "<thead>\n",
       "<tr><th style=\"text-align: right;\">  log(ExposTotal)</th></tr>\n",
       "</thead>\n",
       "<tbody>\n",
       "<tr><td style=\"text-align: right;\">       0.00995033</td></tr>\n",
       "<tr><td style=\"text-align: right;\">       1.09861   </td></tr>\n",
       "<tr><td style=\"text-align: right;\">       0.00995033</td></tr>\n",
       "<tr><td style=\"text-align: right;\">       0.371564  </td></tr>\n",
       "<tr><td style=\"text-align: right;\">       1.51513   </td></tr>\n",
       "<tr><td style=\"text-align: right;\">       0         </td></tr>\n",
       "<tr><td style=\"text-align: right;\">       0.00995033</td></tr>\n",
       "<tr><td style=\"text-align: right;\">       0.41211   </td></tr>\n",
       "<tr><td style=\"text-align: right;\">      -0.0725707 </td></tr>\n",
       "<tr><td style=\"text-align: right;\">       2.34373   </td></tr>\n",
       "</tbody>\n",
       "</table><pre style='font-size: smaller; margin-bottom: 1em;'>[1824688 rows x 1 column]</pre>"
      ],
      "text/plain": [
       "  log(ExposTotal)\n",
       "-----------------\n",
       "       0.00995033\n",
       "       1.09861\n",
       "       0.00995033\n",
       "       0.371564\n",
       "       1.51513\n",
       "       0\n",
       "       0.00995033\n",
       "       0.41211\n",
       "      -0.0725707\n",
       "       2.34373\n",
       "[1824688 rows x 1 column]\n"
      ]
     },
     "execution_count": 51,
     "metadata": {},
     "output_type": "execute_result"
    }
   ],
   "source": [
    "exposure_log= df[\"ExposTotal\"].log()\n",
    "exposure_log"
   ]
  },
  {
   "cell_type": "code",
   "execution_count": 52,
   "metadata": {},
   "outputs": [],
   "source": [
    "df = df.cbind(exposure_log)"
   ]
  },
  {
   "cell_type": "code",
   "execution_count": 53,
   "metadata": {},
   "outputs": [
    {
     "data": {
      "text/plain": [
       "['Gender',\n",
       " 'DrivAge',\n",
       " 'VehYear',\n",
       " 'VehModel',\n",
       " 'VehGroup',\n",
       " 'Area',\n",
       " 'State',\n",
       " 'StateAb',\n",
       " 'ExposTotal',\n",
       " 'ExposFireRob',\n",
       " 'PremTotal',\n",
       " 'PremFireRob',\n",
       " 'SumInsAvg',\n",
       " 'ClaimNbRob',\n",
       " 'ClaimNbPartColl',\n",
       " 'ClaimNbTotColl',\n",
       " 'ClaimNbFire',\n",
       " 'ClaimNbOther',\n",
       " 'ClaimAmountRob',\n",
       " 'ClaimAmountPartColl',\n",
       " 'ClaimAmountTotColl',\n",
       " 'ClaimAmountFire',\n",
       " 'ClaimAmountOther',\n",
       " 'log(ExposTotal)',\n",
       " 'log(ExposTotal)0']"
      ]
     },
     "execution_count": 53,
     "metadata": {},
     "output_type": "execute_result"
    }
   ],
   "source": [
    "df.columns"
   ]
  },
  {
   "cell_type": "code",
   "execution_count": 62,
   "metadata": {},
   "outputs": [],
   "source": [
    "OFFSET = f\"log({EXPOSURE})\""
   ]
  },
  {
   "cell_type": "markdown",
   "metadata": {},
   "source": [
    "## Create train test split"
   ]
  },
  {
   "cell_type": "code",
   "execution_count": 63,
   "metadata": {},
   "outputs": [],
   "source": [
    "df_train, df_test = df.split_frame(ratios=[.8], seed=54321)"
   ]
  },
  {
   "cell_type": "code",
   "execution_count": 64,
   "metadata": {},
   "outputs": [
    {
     "name": "stdout",
     "output_type": "stream",
     "text": [
      "Training data shape: [1459895, 25]\n",
      "Testing data shape: [364793, 25]\n"
     ]
    }
   ],
   "source": [
    "print(f\"Training data shape: {df_train.dim}\")\n",
    "print(f\"Testing data shape: {df_test.dim}\")"
   ]
  },
  {
   "cell_type": "markdown",
   "metadata": {},
   "source": [
    "# Model fitting"
   ]
  },
  {
   "cell_type": "markdown",
   "metadata": {},
   "source": [
    "## Predictors"
   ]
  },
  {
   "cell_type": "code",
   "execution_count": 65,
   "metadata": {},
   "outputs": [],
   "source": [
    "predictors = [\n",
    "    'Gender',\n",
    "    'DrivAge',\n",
    "    'VehYear',\n",
    "    # 'VehModel',\n",
    "    'VehGroup',\n",
    "    # 'Area',\n",
    "    # 'State',\n",
    "    'StateAb',\n",
    "    'SumInsAvg'\n",
    "]"
   ]
  },
  {
   "cell_type": "markdown",
   "metadata": {},
   "source": [
    "## Run a model"
   ]
  },
  {
   "cell_type": "code",
   "execution_count": 66,
   "metadata": {},
   "outputs": [],
   "source": [
    "# GLM parameters\n",
    "glm_params = {\n",
    "    \"family\" : \"poisson\",\n",
    "    \"link\" : \"log\",\n",
    "    \"seed\" : 54321,\n",
    "    \"compute_p_values\" : True,\n",
    "    \"remove_collinear_columns\" : True,\n",
    "    # \"standardize\": True,\n",
    "    \"lambda_\" : 0,\n",
    "    \"solver\" : \"IRLSM\"\n",
    "}"
   ]
  },
  {
   "cell_type": "code",
   "execution_count": 67,
   "metadata": {},
   "outputs": [],
   "source": [
    "glm_model = H2OGeneralizedLinearEstimator(**glm_params)"
   ]
  },
  {
   "cell_type": "code",
   "execution_count": 68,
   "metadata": {},
   "outputs": [
    {
     "name": "stdout",
     "output_type": "stream",
     "text": [
      "glm Model Build progress: |"
     ]
    },
    {
     "name": "stdout",
     "output_type": "stream",
     "text": [
      "██████████████████████████████████████████████████████| (done) 100%\n"
     ]
    },
    {
     "data": {
      "text/html": [
       "<pre style='margin: 1em 0 1em 0;'>Model Details\n",
       "=============\n",
       "H2OGeneralizedLinearEstimator : Generalized Linear Modeling\n",
       "Model Key: GLM_model_python_1742721179658_4\n",
       "</pre>\n",
       "<div style='margin: 1em 0 1em 0;'>\n",
       "<style>\n",
       "\n",
       "#h2o-table-2.h2o-container {\n",
       "  overflow-x: auto;\n",
       "}\n",
       "#h2o-table-2 .h2o-table {\n",
       "  /* width: 100%; */\n",
       "  margin-top: 1em;\n",
       "  margin-bottom: 1em;\n",
       "}\n",
       "#h2o-table-2 .h2o-table caption {\n",
       "  white-space: nowrap;\n",
       "  caption-side: top;\n",
       "  text-align: left;\n",
       "  /* margin-left: 1em; */\n",
       "  margin: 0;\n",
       "  font-size: larger;\n",
       "}\n",
       "#h2o-table-2 .h2o-table thead {\n",
       "  white-space: nowrap; \n",
       "  position: sticky;\n",
       "  top: 0;\n",
       "  box-shadow: 0 -1px inset;\n",
       "}\n",
       "#h2o-table-2 .h2o-table tbody {\n",
       "  overflow: auto;\n",
       "}\n",
       "#h2o-table-2 .h2o-table th,\n",
       "#h2o-table-2 .h2o-table td {\n",
       "  text-align: right;\n",
       "  /* border: 1px solid; */\n",
       "}\n",
       "#h2o-table-2 .h2o-table tr:nth-child(even) {\n",
       "  /* background: #F5F5F5 */\n",
       "}\n",
       "\n",
       "</style>      \n",
       "<div id=\"h2o-table-2\" class=\"h2o-container\">\n",
       "  <table class=\"h2o-table\">\n",
       "    <caption>GLM Model: summary</caption>\n",
       "    <thead><tr><th></th>\n",
       "<th>family</th>\n",
       "<th>link</th>\n",
       "<th>regularization</th>\n",
       "<th>number_of_predictors_total</th>\n",
       "<th>number_of_active_predictors</th>\n",
       "<th>number_of_iterations</th>\n",
       "<th>training_frame</th></tr></thead>\n",
       "    <tbody><tr><td></td>\n",
       "<td>poisson</td>\n",
       "<td>log</td>\n",
       "<td>None</td>\n",
       "<td>472</td>\n",
       "<td>459</td>\n",
       "<td>10</td>\n",
       "<td>py_17_sid_b414</td></tr></tbody>\n",
       "  </table>\n",
       "</div>\n",
       "</div>\n",
       "<div style='margin: 1em 0 1em 0;'><pre style='margin: 1em 0 1em 0;'>ModelMetricsRegressionGLM: glm\n",
       "** Reported on train data. **\n",
       "\n",
       "MSE: 7.06466286755488\n",
       "RMSE: 2.657943352962\n",
       "MAE: 0.20852839620998193\n",
       "RMSLE: 0.22901921640698375\n",
       "Mean Residual Deviance: 0.4424105913726282\n",
       "R^2: 0.08355838846477837\n",
       "Null degrees of freedom: 1459894\n",
       "Residual degrees of freedom: 1459435\n",
       "Null deviance: 970067.9163161671\n",
       "Residual deviance: 645873.0102919431\n",
       "AIC: 1002803.6552569717</pre></div>\n",
       "<div style='margin: 1em 0 1em 0;'>\n",
       "<style>\n",
       "\n",
       "#h2o-table-3.h2o-container {\n",
       "  overflow-x: auto;\n",
       "}\n",
       "#h2o-table-3 .h2o-table {\n",
       "  /* width: 100%; */\n",
       "  margin-top: 1em;\n",
       "  margin-bottom: 1em;\n",
       "}\n",
       "#h2o-table-3 .h2o-table caption {\n",
       "  white-space: nowrap;\n",
       "  caption-side: top;\n",
       "  text-align: left;\n",
       "  /* margin-left: 1em; */\n",
       "  margin: 0;\n",
       "  font-size: larger;\n",
       "}\n",
       "#h2o-table-3 .h2o-table thead {\n",
       "  white-space: nowrap; \n",
       "  position: sticky;\n",
       "  top: 0;\n",
       "  box-shadow: 0 -1px inset;\n",
       "}\n",
       "#h2o-table-3 .h2o-table tbody {\n",
       "  overflow: auto;\n",
       "}\n",
       "#h2o-table-3 .h2o-table th,\n",
       "#h2o-table-3 .h2o-table td {\n",
       "  text-align: right;\n",
       "  /* border: 1px solid; */\n",
       "}\n",
       "#h2o-table-3 .h2o-table tr:nth-child(even) {\n",
       "  /* background: #F5F5F5 */\n",
       "}\n",
       "\n",
       "</style>      \n",
       "<div id=\"h2o-table-3\" class=\"h2o-container\">\n",
       "  <table class=\"h2o-table\">\n",
       "    <caption>Scoring History: </caption>\n",
       "    <thead><tr><th></th>\n",
       "<th>timestamp</th>\n",
       "<th>duration</th>\n",
       "<th>iterations</th>\n",
       "<th>negative_log_likelihood</th>\n",
       "<th>objective</th>\n",
       "<th>training_rmse</th>\n",
       "<th>training_deviance</th>\n",
       "<th>training_mae</th>\n",
       "<th>training_r2</th></tr></thead>\n",
       "    <tbody><tr><td></td>\n",
       "<td>2025-03-23 12:04:01</td>\n",
       "<td> 0.000 sec</td>\n",
       "<td>0</td>\n",
       "<td>970067.9163214</td>\n",
       "<td>0.6644779</td>\n",
       "<td></td>\n",
       "<td></td>\n",
       "<td></td>\n",
       "<td></td></tr>\n",
       "<tr><td></td>\n",
       "<td>2025-03-23 12:04:02</td>\n",
       "<td> 1.453 sec</td>\n",
       "<td>1</td>\n",
       "<td>776276.4195366</td>\n",
       "<td>0.5317344</td>\n",
       "<td></td>\n",
       "<td></td>\n",
       "<td></td>\n",
       "<td></td></tr>\n",
       "<tr><td></td>\n",
       "<td>2025-03-23 12:04:02</td>\n",
       "<td> 1.742 sec</td>\n",
       "<td>2</td>\n",
       "<td>678557.0768855</td>\n",
       "<td>0.4647985</td>\n",
       "<td></td>\n",
       "<td></td>\n",
       "<td></td>\n",
       "<td></td></tr>\n",
       "<tr><td></td>\n",
       "<td>2025-03-23 12:04:03</td>\n",
       "<td> 2.139 sec</td>\n",
       "<td>3</td>\n",
       "<td>651288.2577872</td>\n",
       "<td>0.4461199</td>\n",
       "<td></td>\n",
       "<td></td>\n",
       "<td></td>\n",
       "<td></td></tr>\n",
       "<tr><td></td>\n",
       "<td>2025-03-23 12:04:03</td>\n",
       "<td> 2.422 sec</td>\n",
       "<td>4</td>\n",
       "<td>647105.4531209</td>\n",
       "<td>0.4432548</td>\n",
       "<td></td>\n",
       "<td></td>\n",
       "<td></td>\n",
       "<td></td></tr>\n",
       "<tr><td></td>\n",
       "<td>2025-03-23 12:04:03</td>\n",
       "<td> 2.717 sec</td>\n",
       "<td>5</td>\n",
       "<td>646128.1112407</td>\n",
       "<td>0.4425853</td>\n",
       "<td></td>\n",
       "<td></td>\n",
       "<td></td>\n",
       "<td></td></tr>\n",
       "<tr><td></td>\n",
       "<td>2025-03-23 12:04:04</td>\n",
       "<td> 2.942 sec</td>\n",
       "<td>6</td>\n",
       "<td>645932.3650271</td>\n",
       "<td>0.4424512</td>\n",
       "<td></td>\n",
       "<td></td>\n",
       "<td></td>\n",
       "<td></td></tr>\n",
       "<tr><td></td>\n",
       "<td>2025-03-23 12:04:04</td>\n",
       "<td> 3.196 sec</td>\n",
       "<td>7</td>\n",
       "<td>645885.3079696</td>\n",
       "<td>0.4424190</td>\n",
       "<td></td>\n",
       "<td></td>\n",
       "<td></td>\n",
       "<td></td></tr>\n",
       "<tr><td></td>\n",
       "<td>2025-03-23 12:04:04</td>\n",
       "<td> 3.456 sec</td>\n",
       "<td>8</td>\n",
       "<td>645875.7381429</td>\n",
       "<td>0.4424125</td>\n",
       "<td></td>\n",
       "<td></td>\n",
       "<td></td>\n",
       "<td></td></tr>\n",
       "<tr><td></td>\n",
       "<td>2025-03-23 12:04:05</td>\n",
       "<td> 3.783 sec</td>\n",
       "<td>9</td>\n",
       "<td>645873.4705269</td>\n",
       "<td>0.4424109</td>\n",
       "<td></td>\n",
       "<td></td>\n",
       "<td></td>\n",
       "<td></td></tr>\n",
       "<tr><td></td>\n",
       "<td>2025-03-23 12:04:05</td>\n",
       "<td> 4.031 sec</td>\n",
       "<td>10</td>\n",
       "<td>645873.0102919</td>\n",
       "<td>0.4424106</td>\n",
       "<td>2.6579434</td>\n",
       "<td>0.4424106</td>\n",
       "<td>0.2085284</td>\n",
       "<td>0.0835584</td></tr></tbody>\n",
       "  </table>\n",
       "</div>\n",
       "</div>\n",
       "<div style='margin: 1em 0 1em 0;'>\n",
       "<style>\n",
       "\n",
       "#h2o-table-4.h2o-container {\n",
       "  overflow-x: auto;\n",
       "}\n",
       "#h2o-table-4 .h2o-table {\n",
       "  /* width: 100%; */\n",
       "  margin-top: 1em;\n",
       "  margin-bottom: 1em;\n",
       "}\n",
       "#h2o-table-4 .h2o-table caption {\n",
       "  white-space: nowrap;\n",
       "  caption-side: top;\n",
       "  text-align: left;\n",
       "  /* margin-left: 1em; */\n",
       "  margin: 0;\n",
       "  font-size: larger;\n",
       "}\n",
       "#h2o-table-4 .h2o-table thead {\n",
       "  white-space: nowrap; \n",
       "  position: sticky;\n",
       "  top: 0;\n",
       "  box-shadow: 0 -1px inset;\n",
       "}\n",
       "#h2o-table-4 .h2o-table tbody {\n",
       "  overflow: auto;\n",
       "}\n",
       "#h2o-table-4 .h2o-table th,\n",
       "#h2o-table-4 .h2o-table td {\n",
       "  text-align: right;\n",
       "  /* border: 1px solid; */\n",
       "}\n",
       "#h2o-table-4 .h2o-table tr:nth-child(even) {\n",
       "  /* background: #F5F5F5 */\n",
       "}\n",
       "\n",
       "</style>      \n",
       "<div id=\"h2o-table-4\" class=\"h2o-container\">\n",
       "  <table class=\"h2o-table\">\n",
       "    <caption>Variable Importances: </caption>\n",
       "    <thead><tr><th>variable</th>\n",
       "<th>relative_importance</th>\n",
       "<th>scaled_importance</th>\n",
       "<th>percentage</th></tr></thead>\n",
       "    <tbody><tr><td>Gender.nan</td>\n",
       "<td>16.6764984</td>\n",
       "<td>1.0</td>\n",
       "<td>0.0048155</td></tr>\n",
       "<tr><td>Gender.Male</td>\n",
       "<td>15.9272499</td>\n",
       "<td>0.9550716</td>\n",
       "<td>0.0045992</td></tr>\n",
       "<tr><td>Gender.Female</td>\n",
       "<td>15.8340292</td>\n",
       "<td>0.9494816</td>\n",
       "<td>0.0045723</td></tr>\n",
       "<tr><td>VehGroup.Engesa</td>\n",
       "<td>14.7109919</td>\n",
       "<td>0.8821391</td>\n",
       "<td>0.0042480</td></tr>\n",
       "<tr><td>VehGroup.Ford F-100</td>\n",
       "<td>13.8628998</td>\n",
       "<td>0.8312836</td>\n",
       "<td>0.0040031</td></tr>\n",
       "<tr><td>VehGroup.Citroen C6</td>\n",
       "<td>13.8387270</td>\n",
       "<td>0.8298341</td>\n",
       "<td>0.0039961</td></tr>\n",
       "<tr><td>StateAb.nan</td>\n",
       "<td>13.7009001</td>\n",
       "<td>0.8215694</td>\n",
       "<td>0.0039563</td></tr>\n",
       "<tr><td>VehGroup.Ford Corcel</td>\n",
       "<td>13.5957375</td>\n",
       "<td>0.8152633</td>\n",
       "<td>0.0039259</td></tr>\n",
       "<tr><td>VehGroup.Audi A8</td>\n",
       "<td>13.2399521</td>\n",
       "<td>0.7939288</td>\n",
       "<td>0.0038232</td></tr>\n",
       "<tr><td>VehGroup.Hyundai Sonata</td>\n",
       "<td>12.9797487</td>\n",
       "<td>0.7783258</td>\n",
       "<td>0.0037481</td></tr>\n",
       "<tr><td>---</td>\n",
       "<td>---</td>\n",
       "<td>---</td>\n",
       "<td>---</td></tr>\n",
       "<tr><td>VehGroup.Cbt Jipe</td>\n",
       "<td>0.0</td>\n",
       "<td>0.0</td>\n",
       "<td>0.0</td></tr>\n",
       "<tr><td>VehGroup.Dodge Avenger</td>\n",
       "<td>0.0</td>\n",
       "<td>0.0</td>\n",
       "<td>0.0</td></tr>\n",
       "<tr><td>VehGroup.Dodge Stealth</td>\n",
       "<td>0.0</td>\n",
       "<td>0.0</td>\n",
       "<td>0.0</td></tr>\n",
       "<tr><td>VehGroup.Fiat Bravo</td>\n",
       "<td>0.0</td>\n",
       "<td>0.0</td>\n",
       "<td>0.0</td></tr>\n",
       "<tr><td>VehGroup.Ford Aspire</td>\n",
       "<td>0.0</td>\n",
       "<td>0.0</td>\n",
       "<td>0.0</td></tr>\n",
       "<tr><td>VehGroup.Ford Contour</td>\n",
       "<td>0.0</td>\n",
       "<td>0.0</td>\n",
       "<td>0.0</td></tr>\n",
       "<tr><td>VehGroup.Ford Thunderbird</td>\n",
       "<td>0.0</td>\n",
       "<td>0.0</td>\n",
       "<td>0.0</td></tr>\n",
       "<tr><td>VehGroup.Honda Passport</td>\n",
       "<td>0.0</td>\n",
       "<td>0.0</td>\n",
       "<td>0.0</td></tr>\n",
       "<tr><td>VehGroup.Hyundai Scoupe</td>\n",
       "<td>0.0</td>\n",
       "<td>0.0</td>\n",
       "<td>0.0</td></tr>\n",
       "<tr><td>VehGroup.Lada Samara</td>\n",
       "<td>0.0</td>\n",
       "<td>0.0</td>\n",
       "<td>0.0</td></tr></tbody>\n",
       "  </table>\n",
       "</div>\n",
       "<pre style='font-size: smaller; margin-bottom: 1em;'>[472 rows x 4 columns]</pre></div><pre style=\"font-size: smaller; margin: 1em 0 0 0;\">\n",
       "\n",
       "[tips]\n",
       "Use `model.explain()` to inspect the model.\n",
       "--\n",
       "Use `h2o.display.toggle_user_tips()` to switch on/off this section.</pre>"
      ],
      "text/plain": [
       "Model Details\n",
       "=============\n",
       "H2OGeneralizedLinearEstimator : Generalized Linear Modeling\n",
       "Model Key: GLM_model_python_1742721179658_4\n",
       "\n",
       "\n",
       "GLM Model: summary\n",
       "    family    link    regularization    number_of_predictors_total    number_of_active_predictors    number_of_iterations    training_frame\n",
       "--  --------  ------  ----------------  ----------------------------  -----------------------------  ----------------------  ----------------\n",
       "    poisson   log     None              472                           459                            10                      py_17_sid_b414\n",
       "\n",
       "ModelMetricsRegressionGLM: glm\n",
       "** Reported on train data. **\n",
       "\n",
       "MSE: 7.06466286755488\n",
       "RMSE: 2.657943352962\n",
       "MAE: 0.20852839620998193\n",
       "RMSLE: 0.22901921640698375\n",
       "Mean Residual Deviance: 0.4424105913726282\n",
       "R^2: 0.08355838846477837\n",
       "Null degrees of freedom: 1459894\n",
       "Residual degrees of freedom: 1459435\n",
       "Null deviance: 970067.9163161671\n",
       "Residual deviance: 645873.0102919431\n",
       "AIC: 1002803.6552569717\n",
       "\n",
       "Scoring History: \n",
       "    timestamp            duration    iterations    negative_log_likelihood    objective    training_rmse    training_deviance    training_mae         training_r2\n",
       "--  -------------------  ----------  ------------  -------------------------  -----------  ---------------  -------------------  -------------------  -------------------\n",
       "    2025-03-23 12:04:01  0.000 sec   0             970068                     0.664478\n",
       "    2025-03-23 12:04:02  1.453 sec   1             776276                     0.531734\n",
       "    2025-03-23 12:04:02  1.742 sec   2             678557                     0.464799\n",
       "    2025-03-23 12:04:03  2.139 sec   3             651288                     0.44612\n",
       "    2025-03-23 12:04:03  2.422 sec   4             647105                     0.443255\n",
       "    2025-03-23 12:04:03  2.717 sec   5             646128                     0.442585\n",
       "    2025-03-23 12:04:04  2.942 sec   6             645932                     0.442451\n",
       "    2025-03-23 12:04:04  3.196 sec   7             645885                     0.442419\n",
       "    2025-03-23 12:04:04  3.456 sec   8             645876                     0.442412\n",
       "    2025-03-23 12:04:05  3.783 sec   9             645873                     0.442411\n",
       "    2025-03-23 12:04:05  4.031 sec   10            645873                     0.442411     2.657943352962   0.4424105913726282   0.20852839620998193  0.08355838846477837\n",
       "\n",
       "Variable Importances: \n",
       "variable                   relative_importance    scaled_importance    percentage\n",
       "-------------------------  ---------------------  -------------------  ---------------------\n",
       "Gender.nan                 16.676498413085938     1.0                  0.0048155357062848155\n",
       "Gender.Male                15.927249908447266     0.9550715932038382   0.004599181359131409\n",
       "Gender.Female              15.834029197692871     0.9494816480939436   0.004572262778858539\n",
       "VehGroup.Engesa            14.710991859436035     0.8821391334701545   0.004247972495136676\n",
       "VehGroup.Ford F-100        13.862899780273438     0.8312836086378488   0.004003075899444854\n",
       "VehGroup.Citroen C6        13.838726997375488     0.8298340967379777   0.00399609572313434\n",
       "StateAb.nan                13.700900077819824     0.8215693569741727   0.003956296573698584\n",
       "VehGroup.Ford Corcel       13.59573745727539      0.8152633197030682   0.003925929626054418\n",
       "VehGroup.Audi A8           13.239952087402344     0.7939287828560606   0.0038231924020906034\n",
       "VehGroup.Hyundai Sonata    12.979748725891113     0.7783257854482204   0.0037480556109480796\n",
       "---                        ---                    ---                  ---\n",
       "VehGroup.Cbt Jipe          0.0                    0.0                  0.0\n",
       "VehGroup.Dodge Avenger     0.0                    0.0                  0.0\n",
       "VehGroup.Dodge Stealth     0.0                    0.0                  0.0\n",
       "VehGroup.Fiat Bravo        0.0                    0.0                  0.0\n",
       "VehGroup.Ford Aspire       0.0                    0.0                  0.0\n",
       "VehGroup.Ford Contour      0.0                    0.0                  0.0\n",
       "VehGroup.Ford Thunderbird  0.0                    0.0                  0.0\n",
       "VehGroup.Honda Passport    0.0                    0.0                  0.0\n",
       "VehGroup.Hyundai Scoupe    0.0                    0.0                  0.0\n",
       "VehGroup.Lada Samara       0.0                    0.0                  0.0\n",
       "[472 rows x 4 columns]\n",
       "\n",
       "\n",
       "[tips]\n",
       "Use `model.explain()` to inspect the model.\n",
       "--\n",
       "Use `h2o.display.toggle_user_tips()` to switch on/off this section."
      ]
     },
     "execution_count": 68,
     "metadata": {},
     "output_type": "execute_result"
    }
   ],
   "source": [
    "glm_model.train(\n",
    "    x=predictors,\n",
    "    y=RESPONSE,\n",
    "    weights_column=WEIGHTS,\n",
    "    offset_column=OFFSET,\n",
    "    training_frame=df_train\n",
    ")"
   ]
  },
  {
   "cell_type": "code",
   "execution_count": 69,
   "metadata": {},
   "outputs": [
    {
     "data": {
      "text/html": [
       "\n",
       "<style>\n",
       "\n",
       "#h2o-table-5.h2o-container {\n",
       "  overflow-x: auto;\n",
       "}\n",
       "#h2o-table-5 .h2o-table {\n",
       "  /* width: 100%; */\n",
       "  margin-top: 1em;\n",
       "  margin-bottom: 1em;\n",
       "}\n",
       "#h2o-table-5 .h2o-table caption {\n",
       "  white-space: nowrap;\n",
       "  caption-side: top;\n",
       "  text-align: left;\n",
       "  /* margin-left: 1em; */\n",
       "  margin: 0;\n",
       "  font-size: larger;\n",
       "}\n",
       "#h2o-table-5 .h2o-table thead {\n",
       "  white-space: nowrap; \n",
       "  position: sticky;\n",
       "  top: 0;\n",
       "  box-shadow: 0 -1px inset;\n",
       "}\n",
       "#h2o-table-5 .h2o-table tbody {\n",
       "  overflow: auto;\n",
       "}\n",
       "#h2o-table-5 .h2o-table th,\n",
       "#h2o-table-5 .h2o-table td {\n",
       "  text-align: right;\n",
       "  /* border: 1px solid; */\n",
       "}\n",
       "#h2o-table-5 .h2o-table tr:nth-child(even) {\n",
       "  /* background: #F5F5F5 */\n",
       "}\n",
       "\n",
       "</style>      \n",
       "<div id=\"h2o-table-5\" class=\"h2o-container\">\n",
       "  <table class=\"h2o-table\">\n",
       "    <caption>Coefficients: glm coefficients</caption>\n",
       "    <thead><tr><th>names</th>\n",
       "<th>coefficients</th>\n",
       "<th>std_error</th>\n",
       "<th>z_value</th>\n",
       "<th>p_value</th>\n",
       "<th>standardized_coefficients</th></tr></thead>\n",
       "    <tbody><tr><td>Intercept</td>\n",
       "<td>-190.9340925</td>\n",
       "<td>1618.8599664</td>\n",
       "<td>-0.1179436</td>\n",
       "<td>0.9061124</td>\n",
       "<td>-29.9788349</td></tr>\n",
       "<tr><td>VehGroup.Agrale - Marrua</td>\n",
       "<td>-1.5720508</td>\n",
       "<td>1686.8297991</td>\n",
       "<td>-0.0009320</td>\n",
       "<td>0.9992564</td>\n",
       "<td>-1.5720508</td></tr>\n",
       "<tr><td>VehGroup.Agrale Caminhoes - Todos</td>\n",
       "<td>9.8087257</td>\n",
       "<td>1618.8544034</td>\n",
       "<td>0.0060591</td>\n",
       "<td>0.9951656</td>\n",
       "<td>9.8087257</td></tr>\n",
       "<tr><td>VehGroup.Agrale Motos - Todas</td>\n",
       "<td>-0.9192902</td>\n",
       "<td>12845.8128089</td>\n",
       "<td>-0.0000716</td>\n",
       "<td>0.9999429</td>\n",
       "<td>-0.9192902</td></tr>\n",
       "<tr><td>VehGroup.Alfa Romeo 145</td>\n",
       "<td>-0.7043979</td>\n",
       "<td>1694.4727878</td>\n",
       "<td>-0.0004157</td>\n",
       "<td>0.9996683</td>\n",
       "<td>-0.7043979</td></tr>\n",
       "<tr><td>VehGroup.Alfa Romeo 147</td>\n",
       "<td>12.5330048</td>\n",
       "<td>1618.8546901</td>\n",
       "<td>0.0077419</td>\n",
       "<td>0.9938229</td>\n",
       "<td>12.5330048</td></tr>\n",
       "<tr><td>VehGroup.Alfa Romeo 155</td>\n",
       "<td>0.1080186</td>\n",
       "<td>1730.0386067</td>\n",
       "<td>0.0000624</td>\n",
       "<td>0.9999502</td>\n",
       "<td>0.1080186</td></tr>\n",
       "<tr><td>VehGroup.Alfa Romeo 156</td>\n",
       "<td>11.7342797</td>\n",
       "<td>1618.8544585</td>\n",
       "<td>0.0072485</td>\n",
       "<td>0.9942166</td>\n",
       "<td>11.7342797</td></tr>\n",
       "<tr><td>VehGroup.Alfa Romeo 164</td>\n",
       "<td>11.7444570</td>\n",
       "<td>1618.8546900</td>\n",
       "<td>0.0072548</td>\n",
       "<td>0.9942116</td>\n",
       "<td>11.7444570</td></tr>\n",
       "<tr><td>VehGroup.Alfa Romeo 166</td>\n",
       "<td>-1.5126555</td>\n",
       "<td>1708.6769804</td>\n",
       "<td>-0.0008853</td>\n",
       "<td>0.9992936</td>\n",
       "<td>-1.5126555</td></tr>\n",
       "<tr><td>---</td>\n",
       "<td>---</td>\n",
       "<td>---</td>\n",
       "<td>---</td>\n",
       "<td>---</td>\n",
       "<td>---</td></tr>\n",
       "<tr><td>DrivAge.26-35</td>\n",
       "<td>-0.3599214</td>\n",
       "<td>0.0093374</td>\n",
       "<td>-38.5462207</td>\n",
       "<td>0.0</td>\n",
       "<td>-0.3599214</td></tr>\n",
       "<tr><td>DrivAge.36-45</td>\n",
       "<td>-0.1621861</td>\n",
       "<td>0.0089693</td>\n",
       "<td>-18.0823367</td>\n",
       "<td>0.0000000</td>\n",
       "<td>-0.1621861</td></tr>\n",
       "<tr><td>DrivAge.46-55</td>\n",
       "<td>-0.4289875</td>\n",
       "<td>0.0094317</td>\n",
       "<td>-45.4836726</td>\n",
       "<td>0.0</td>\n",
       "<td>-0.4289875</td></tr>\n",
       "<tr><td>DrivAge.>55</td>\n",
       "<td>-0.5374400</td>\n",
       "<td>0.0095439</td>\n",
       "<td>-56.3125088</td>\n",
       "<td>0.0</td>\n",
       "<td>-0.5374400</td></tr>\n",
       "<tr><td>DrivAge.nan</td>\n",
       "<td>2.6132948</td>\n",
       "<td>0.0323628</td>\n",
       "<td>80.7499610</td>\n",
       "<td>0.0</td>\n",
       "<td>2.6132948</td></tr>\n",
       "<tr><td>Gender.Female</td>\n",
       "<td>15.8340289</td>\n",
       "<td>4.0094938</td>\n",
       "<td>3.9491342</td>\n",
       "<td>0.0000784</td>\n",
       "<td>15.8340289</td></tr>\n",
       "<tr><td>Gender.Male</td>\n",
       "<td>15.9272498</td>\n",
       "<td>4.0094935</td>\n",
       "<td>3.9723845</td>\n",
       "<td>0.0000712</td>\n",
       "<td>15.9272498</td></tr>\n",
       "<tr><td>Gender.nan</td>\n",
       "<td>16.6764990</td>\n",
       "<td>4.0093778</td>\n",
       "<td>4.1593733</td>\n",
       "<td>0.0000319</td>\n",
       "<td>16.6764990</td></tr>\n",
       "<tr><td>VehYear</td>\n",
       "<td>0.0802888</td>\n",
       "<td>0.0007257</td>\n",
       "<td>110.6384796</td>\n",
       "<td>0.0</td>\n",
       "<td>0.3858114</td></tr>\n",
       "<tr><td>SumInsAvg</td>\n",
       "<td>-0.0000017</td>\n",
       "<td>0.0000001</td>\n",
       "<td>-11.4912388</td>\n",
       "<td>0.0000000</td>\n",
       "<td>-0.0646318</td></tr></tbody>\n",
       "  </table>\n",
       "</div>\n",
       "<pre style='font-size: smaller; margin-bottom: 1em;'>[473 rows x 6 columns]</pre>"
      ],
      "text/plain": [
       "Coefficients: glm coefficients\n",
       "names                              coefficients            std_error               z_value                 p_value                 standardized_coefficients\n",
       "---------------------------------  ----------------------  ----------------------  ----------------------  ----------------------  ---------------------------\n",
       "Intercept                          -190.93409250295807     1618.8599664368242      -0.11794355068475236    0.9061123855896275      -29.978834858098274\n",
       "VehGroup.Agrale - Marrua           -1.5720508193949119     1686.8297991287418      -0.0009319558026582682  0.9992564069613485      -1.5720508193949119\n",
       "VehGroup.Agrale Caminhoes - Todos  9.808725650955454       1618.8544034014456      0.006059053630978742    0.9951656042349453      9.808725650955454\n",
       "VehGroup.Agrale Motos - Todas      -0.9192902390368038     12845.812808907518      -7.156341546557112e-05  0.9999429006557304      -0.9192902390368038\n",
       "VehGroup.Alfa Romeo 145            -0.7043978901231431     1694.472787794761       -0.0004157032766751411  0.9996683167832188      -0.7043978901231431\n",
       "VehGroup.Alfa Romeo 147            12.53300481320381       1618.8546901416953      0.007741896100697475    0.9938229223358465      12.53300481320381\n",
       "VehGroup.Alfa Romeo 155            0.10801862266608582     1730.0386066585338      6.243711686568506e-05   0.9999501823884642      0.10801862266608582\n",
       "VehGroup.Alfa Romeo 156            11.73427970021707       1618.854458509234       0.007248508127792351    0.9942165779203628      11.73427970021707\n",
       "VehGroup.Alfa Romeo 164            11.744457031170684      1618.85469001725        0.0072547938388747785   0.9942115627804023      11.744457031170684\n",
       "VehGroup.Alfa Romeo 166            -1.5126555351489226     1708.6769803954871      -0.0008852788165957537  0.9992936497924957      -1.5126555351489226\n",
       "---                                ---                     ---                     ---                     ---                     ---\n",
       "DrivAge.26-35                      -0.35992140354631996    0.00933739798184868     -38.546220718661104     0.0                     -0.35992140354631996\n",
       "DrivAge.36-45                      -0.16218614569213302    0.0089693134545319      -18.082336682099754     4.390747861808643e-73   -0.16218614569213302\n",
       "DrivAge.46-55                      -0.42898753795468864    0.00943168203949994     -45.48367260029402      0.0                     -0.42898753795468864\n",
       "DrivAge.>55                        -0.537439996353871      0.009543883023523636    -56.312508758667306     0.0                     -0.537439996353871\n",
       "DrivAge.nan                        2.6132947602820886      0.03236279904861825     80.74996097698987       0.0                     2.6132947602820886\n",
       "Gender.Female                      15.834028931031247      4.0094937836758655      3.9491341763634713      7.843437964856126e-05   15.834028931031247\n",
       "Gender.Male                        15.927249803190044      4.009493515663914       3.9723844772330854      7.11567473943294e-05    15.927249803190044\n",
       "Gender.nan                         16.676498960887695      4.009377754509844       4.1593733446866095      3.191219169073352e-05   16.676498960887695\n",
       "VehYear                            0.0802888253446548      0.0007256862676779992   110.63847963053983      0.0                     0.3858114168932135\n",
       "SumInsAvg                          -1.679899333630056e-06  1.4618957659623526e-07  -11.491238792419605     1.4600305537412202e-30  -0.06463182710723062\n",
       "[473 rows x 6 columns]\n"
      ]
     },
     "execution_count": 69,
     "metadata": {},
     "output_type": "execute_result"
    }
   ],
   "source": [
    "glm_model.coef_with_p_values()"
   ]
  },
  {
   "cell_type": "code",
   "execution_count": null,
   "metadata": {},
   "outputs": [],
   "source": [
    "# Gender.Corporate to zmienna bazowa\n",
    "# czyli jak bedzie Gender.Female to szkoda wzrośnie o e^(15.83) wzgledem bazowej zmiennej\n",
    "# zmienna bazowa ma wspolczynnik e^(0)"
   ]
  },
  {
   "cell_type": "code",
   "execution_count": null,
   "metadata": {},
   "outputs": [],
   "source": [
    "# jak sie robi model glm to patrzy sie na te metryki evaluacyjne\n",
    "# Null deviance: 970067.9163161671\n",
    "# Residual deviance: 645873.0102919431\n",
    "# metrki typu mse, rmse, mae sa tu bezuzyteczne - w ubezpieczeniah predykcja nie ma byc najlepsza, tylk dana osobe mamy zaklasyfikowac do odpowiediego koszyka ryzyka"
   ]
  }
 ],
 "metadata": {
  "kernelspec": {
   "display_name": "brvehins_h2o_polars_env",
   "language": "python",
   "name": "python3"
  },
  "language_info": {
   "codemirror_mode": {
    "name": "ipython",
    "version": 3
   },
   "file_extension": ".py",
   "mimetype": "text/x-python",
   "name": "python",
   "nbconvert_exporter": "python",
   "pygments_lexer": "ipython3",
   "version": "3.13.1"
  }
 },
 "nbformat": 4,
 "nbformat_minor": 2
}
